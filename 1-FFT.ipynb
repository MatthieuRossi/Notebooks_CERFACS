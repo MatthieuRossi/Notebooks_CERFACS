{
 "cells": [
  {
   "cell_type": "markdown",
   "metadata": {},
   "source": [
    "# The Fast Fourier Transform\n",
    "\n",
    "\n",
    "## Generalities\n",
    "Studying the frequential behavior of a system is sometimes useful in order to highlight determined instabilities. To do so, it is common to plot the spectrum of a physical parameter (such as pressure, acceleration,... ) using the Fourier Transform.\n",
    "\n",
    "During this tutorial, we will create a periodic signal, then we will introduce a noise. In the end, using the Fast Fourier Transform, we will find out the frequencies of the initial signal and the spectrum of the noise.\n",
    "\n",
    "## Objectives\n",
    "   - Generate a harmonic signal\n",
    "   - Generate a noise\n",
    "   - Plot the FFT of a function\n",
    "   \n",
    "In this tutorial, you will be asked to complete code pieces filling blanks: ___.\n",
    "\n",
    "In these blanks, you may whether put a number, a variable or an expression. At the end of a code block, you may find some \"assert\" tests in order to check if what you entered is correct.\n",
    "\n",
    "### 1) Generate a harmonic signal\n",
    "\n",
    "Let us create a sine signal, it is up to\n",
    "you to choose the frequency of your sine (in Hertz), its amplitude and its mean value. You also have to choose the number of time samples for one sinewave.\n",
    "\n",
    "NB: the number of time samples has to be even. If you want to see the influence of a change of the number of time samples, we recommend to use a power of 2 like 32, 64, 128, 256, 512, 1024...\n",
    "\n",
    "By the way, the expression of a sine signal (without phase shift) is:\n",
    "\n",
    "$$x(t)=U_0+A\\sin(2 \\pi f_0 t)$$\n",
    "\n",
    "with $U_0$ the mean value of the signal, $A$ the amplitude of the sinewave and $f_0$ the frequency of the sine."
   ]
  },
  {
   "cell_type": "code",
   "execution_count": 1,
   "metadata": {},
   "outputs": [],
   "source": [
    "# First, we call the libraries we are going to use in this tutorial\n",
    "import numpy as np\n",
    "import matplotlib.pyplot as plt"
   ]
  },
  {
   "cell_type": "markdown",
   "metadata": {},
   "source": [
    "Create a time vector going from 0 to 1.5 second with 1024 time steps. To do so, you can use the `linspace` function from `numpy` library (https://www.numpy.org/devdocs/reference/generated/numpy.linspace.html)."
   ]
  },
  {
   "cell_type": "code",
   "execution_count": null,
   "metadata": {},
   "outputs": [],
   "source": [
    "time = np.linspace(___, ___, ___)\n",
    "assert len(time) == 1024\n",
    "assert time[-1] - time[0] == 1.5"
   ]
  },
  {
   "cell_type": "markdown",
   "metadata": {},
   "source": [
    "Then we create the function which will create our pure signal."
   ]
  },
  {
   "cell_type": "code",
   "execution_count": null,
   "metadata": {},
   "outputs": [],
   "source": [
    "def get_sine(time_vector : tuple, mean_value : float, amplitude : float, main_frequency : float) :\n",
    "    \n",
    "    \"\"\"This function creates a sine signal using the time vector provided and with \n",
    "    the mean_value, amplitude and main_frequency parameters provided. \"\"\"\n",
    "    \n",
    "    # Define the signal vector\n",
    "    signal_vector = ___\n",
    "    return signal_vector"
   ]
  },
  {
   "cell_type": "markdown",
   "metadata": {},
   "source": [
    "Now, you will use the `time` vector and the function `get_sine()` you have just created to generate a signal and plot it with `matplotlib.pyplot.plot()` (https://matplotlib.org/api/_as_gen/matplotlib.pyplot.plot.html?highlight=pyplot%20plot#matplotlib.pyplot.plot). \n",
    "\n",
    "Generate a signal which mean value is 5, amplitude is 10 and main frequency is 8."
   ]
  },
  {
   "cell_type": "code",
   "execution_count": null,
   "metadata": {},
   "outputs": [],
   "source": [
    "signal = get_sine(___, ___, ___, ___)\n",
    "plt.plot(___, ___)\n",
    "plt.title('Signal')\n",
    "plt.ylabel('Amplitude')\n",
    "plt.grid(True)\n",
    "plt.show(True)"
   ]
  },
  {
   "cell_type": "markdown",
   "metadata": {},
   "source": [
    "You should get a signal composed of 12 sinewaves going from -5.0 to 15.0.\n",
    "### 2) Generate a noise\n",
    "\n",
    "We are now going to create a vector faking a noise. We will use a function calculating a random number for each time step. The `numpy`function `random.random(N)`gives a vector of N values between 0 and 1 (https://www.numpy.org/devdocs/reference/generated/numpy.random.random.html#numpy.random.random)."
   ]
  },
  {
   "cell_type": "code",
   "execution_count": null,
   "metadata": {},
   "outputs": [],
   "source": [
    "def get_noise(time_vector : tuple, noise_amp : float) :\n",
    "    \n",
    "    \"\"\"This function creates a vector of the same length of the vector you give and which values are random floats\"\"\"\n",
    "    \n",
    "    # Create a vector of the length of the time vector which values are random numbers between -1 and 1\n",
    "    noise_vector = np.random.random(len(___)) * 2 - 1 \n",
    "    \n",
    "    # Multiply the vector you have just created by the amplitude parameter\n",
    "    noise_vector *= ___\n",
    "    return noise_vector"
   ]
  },
  {
   "cell_type": "markdown",
   "metadata": {},
   "source": [
    "Create a noisy signal of the length of the time vector and of amplitude 8."
   ]
  },
  {
   "cell_type": "code",
   "execution_count": null,
   "metadata": {},
   "outputs": [],
   "source": [
    "noise = get_noise(___, ___)\n",
    "plt.plot(___, ___)\n",
    "plt.grid(True)"
   ]
  },
  {
   "cell_type": "markdown",
   "metadata": {},
   "source": [
    "You should get a random signal which values are between -8 and 8.\n",
    "\n",
    "### 4) The Fast Fourier Transform\n",
    "The definition of the Fourier Transform in the case of a continuous signal is :\n",
    "$$\\mathcal{F}[x(t)]=X(f)=\\int_{-\\infty}^{+\\infty} x(t)\\mathrm{e}^{-\\mathrm{i}2\\pi ft}\\mathrm{d}t$$\n",
    "\n",
    "We notice that the Fourier Transform of a signal is a complex function and its dimension is amplitude.time. When studying the spectrum of a signal, it is common to focus on the **amplitude** of this spectum. Assuming that the value of the Fourier transform for a certain frequency is $X(f_0)=a+\\mathrm{i}b$ the amplitude is defined as: $A=\\sqrt{(a^2+b^2)}$ \n",
    "\n",
    "\n",
    "Since we are computing a signal, we are no more considering a continuous signal but a discrete one. In fact, what we do is to pick the value of the signal regularly, at a determined time step. This method gives us a vector. Thus we must use a discrete version of the Fourier transform (DFT) defined as follow:\n",
    "$$\\mathrm{X}_k=\\frac{1}{N}\\sum_{n=0}^{N-1} x_n\\mathrm{e}^{-\\mathrm{i}\\frac{2\\pi}{N} nk}             , k=0,1,...N-1$$\n",
    "\n",
    "The numpy library helps you doing this caculation with `numpy.fft.fft()` function. The value returned by this function is a vector of N complex components. \n",
    "\n",
    "**NB:** There are different paradigms to calculate the DFT. The $\\frac{1}{N}$ factor is a normalization that may be applied either on the Fourier Transform (multiplying by $\\frac{1}{N}$), on the inverse Fourier Transform (multiplying by $\\frac{1}{N}$) or on both (multiplying by $\\frac{1}{\\sqrt{N}}$ for each operation). Numpy's fft algorithm applies the $\\frac{1}{N}$ factor on the inverse Fourier Transform. We prefer to apply it on the direct Fourier Transform to have an idea of the amplitude of the sine we are looking for, so we will add it in the function we will create hereafter.\n",
    "\n",
    "A characteristic of the discrete Fourier transform is that the frequency domain is taken from 0 to $(N − 1)\\Delta f$. The line of symmetry is at a frequency of $\\text{N}\\Delta f/2$ which marks the Nyquist frequency (one half of the sampling rate). Shannons sampling theorem states that **a sampled time signal must not contain components at frequencies above the Nyquist frequency**.\n",
    "The frequency resolution is defined as the inverse of the time range. The longer is your time sample, the more precise will be your spectrum.\n",
    "#### Amplitude spectrum\n",
    "Now, we will create our spectrum analyzer. Spectrum analyzer devices typically represent the Fourier transform in terms of magnitude and phase rather than real and imaginary components. Furthermore, spectrum analyzers typically only show only half the total frequency band due to the symmetry relationship.\n",
    "\n",
    "The values of the one-sided **amplitude** Fourier transform of your signal must be calculated as follow:\n",
    "\n",
    "$$X_k =\\text{Magn} \\left( \\frac{1}{N} \\sum_{n=0}^{N-1} x_n\\mathrm{e}^{-\\mathrm{i}\\frac{2\\pi}{N} nk} \\right)   , k=0$$\n",
    "\n",
    "$$X_k =2\\text{ Magn}\\left(\\frac{1}{N} \\sum_{n=0}^{N-1} x_n\\mathrm{e}^{-\\mathrm{i}\\frac{2\\pi}{N} nk} \\right)    , k=1,2,...\\frac{N}{2} -1$$\n",
    "\n",
    "with $X_k$ the k-value of the Fourier transform vector and N an even integer. Note that k = 0 is a special case. The Fourier transform at this frequency is already at full-amplitude.\n",
    "\n",
    "We are now going to define a function in order to calculate the one-sided **amplitude** Fourier transform of a signal."
   ]
  },
  {
   "cell_type": "code",
   "execution_count": null,
   "metadata": {},
   "outputs": [],
   "source": [
    "# Define the calculation parameters according to spectral analysis theory.\n",
    "def fourier_transform(time_vect : tuple, signal_vect : tuple) :\n",
    "    \"\"\"This function automates the creation of the Fourier Transform of a signal.\"\"\"\n",
    "    total_time = time_vect[__] - time_vect[__]\n",
    "    dt = time_vect[__] - time_vect[__]\n",
    "\n",
    "    freq_resolution = 1. / ___\n",
    "    freq_nyquist = 1. / ___\n",
    "\n",
    "    all_freq = np.arange(0, freq_nyquist, freq_resolution ,dtype=np.float)    \n",
    "    N = len(___)\n",
    "    freq = all_freq[0:int(N/2) - 1]\n",
    "\n",
    "    raw_fft = np.fft.fft(signal_vect)\n",
    "    amplitude_spectrum = np.absolute(raw_fft)[0:int(N/2) - 1]\n",
    "    amplitude_spectrum /= ___\n",
    "    amplitude_spectrum[1:] *= ___\n",
    "    return freq, amplitude_spectrum"
   ]
  },
  {
   "cell_type": "markdown",
   "metadata": {},
   "source": [
    "Now, you will use the two functions `get_sine` and `get_noise` to create a noisy sine signal (you can choose the parameters) and the function `fourier_transform` to plot the amplitude spectrum of your signal."
   ]
  },
  {
   "cell_type": "code",
   "execution_count": null,
   "metadata": {},
   "outputs": [],
   "source": [
    "time1 = np.linspace(___, ___, ___)\n",
    "signal1 = get_sine(___)\n",
    "signal1 += get_noise(___)\n",
    "\n",
    "\n",
    "plt.subplot(121)\n",
    "plt.plot(___, ___)\n",
    "plt.title('Signal')\n",
    "plt.xlabel('Time (s)')\n",
    "plt.ylabel('Amplitude')\n",
    "plt.grid(True)\n",
    "\n",
    "frequency, amplitude = fourier_transform(___, ___)\n",
    "plt.subplot(122)\n",
    "plt.plot(___, ___)\n",
    "plt.title('Spectrum')\n",
    "plt.xlabel('Frequency (Hz)')\n",
    "plt.ylabel('Amplitude.s')\n",
    "plt.grid(True)\n",
    "\n",
    "plt.subplots_adjust(right = 2)"
   ]
  },
  {
   "cell_type": "markdown",
   "metadata": {},
   "source": [
    "You should get an amplitude spectrum with a peak at 0 Hz of the amplitude of the mean value of your sine and an other one at the main frequency of the sine and of the amplitude of the sine. The rest of the spectrum is the signature of the noise.\n",
    "\n",
    "**Warning:** If the main frequency of you sine wave is close to the Nyquist frequency, you may not find the amplitude of your sine, but this topic will not be discussed here (_hic sunt leones_).\n",
    "\n",
    "\n",
    "### 5) Power Spectral Density (PSD)\n",
    "\n",
    "The PSD of a continuous signal $x(t)$ of Fourier Transform $X(f)$ is defined as:\n",
    "$$S(f)=\\lim_{T \\to \\infty}\\dfrac{1}{T}X(f)X^*(f)$$\n",
    "For a discrete signal, the PSD is defined as:\n",
    "$$PSD_k=\\left[\\dfrac{F_kF_k^*}{\\Delta f}\\right], k=0$$\n",
    "$$PSD_k=\\dfrac{1}{2}\\left[\\dfrac{F_kF_k^*}{\\Delta f}\\right], k=1, ..., \\dfrac{N}{2}-1$$\n",
    "\n",
    "with $N$ an even integer, $\\Delta f$ the frequency resolution and $F_k$ the Fourier coefficients normalized to be an amplitude. We normalize it by $\\sqrt N$. The $\\frac{1}{2}$ comes from the fact that the mean square of a sine wave is equal to half its amplitude. The $k=0$ case does not require this peak to mean square conversion since the mean square value is equal to the peak value for a signal with zero frequency."
   ]
  },
  {
   "cell_type": "code",
   "execution_count": null,
   "metadata": {},
   "outputs": [],
   "source": [
    "def PSD(time_vect:tuple, signal_vect:tuple):\n",
    "    \"\"\"This function automates the computation of the Power Spectral Density of a signal.\"\"\"\n",
    "    total_time = time_vect[___] - time_vect[___]\n",
    "    dt = time_vect[___] - time_vect[___]\n",
    "\n",
    "    freq_resolution = 1. / ___\n",
    "    freq_nyquist = 1. / ___\n",
    "\n",
    "    frequency = np.arange(0, freq_nyquist, freq_resolution ,dtype=np.float)\n",
    "    N = len(___)\n",
    "    frequency = frequency[:int(N/2)-1]\n",
    "    \n",
    "    raw_fft = np.fft.fft(___)\n",
    "    power_spectral_density = np.square(np.absolute(raw_fft)[:int(N/2)-1]/ np.sqrt(___))\n",
    "    power_spectral_density[1:] *= ___\n",
    "    return frequency, power_spectral_density"
   ]
  },
  {
   "cell_type": "code",
   "execution_count": null,
   "metadata": {},
   "outputs": [],
   "source": [
    "frequency,psd=PSD(___,___)\n",
    "plt.plot(___, ___)\n",
    "plt.grid(True)"
   ]
  },
  {
   "cell_type": "markdown",
   "metadata": {},
   "source": [
    "### 6) Parseval equality\n",
    "The area under the power spectral density curve is equal to the mean square value. The mean square value can also be calculated directly from the time history. A good way to check if your spectrum is well computed is to verify Parseval equality. This equivalence can be written as an energy equivalence:\n",
    "$$\\mathrm{E}=\\lim_{T \\to \\infty}\\int_{-\\frac{T}{2}}^{\\frac{T}{2}}{x(t)^2dt}=\\lim_{T \\to \\infty}\\int_{-\\infty}^{+\\infty}{X(f)X^*(f)df}$$\n",
    "\n",
    "where $X^*(f)$ is the complex conjugate of $X(f)$.\n",
    "\n",
    "A similar result can be written for power equivalence:\n",
    "$$\\mathrm{P}=\\lim_{T \\to \\infty}\\dfrac{1}{T}\\int_{-\\frac{T}{2}}^{\\frac{T}{2}}{x(t)^2dt}=\\lim_{T \\to \\infty}\\dfrac{1}{T}\\int_{-\\infty}^{+\\infty}{X(f)X^*(f)df}$$\n",
    "Let us check if the PSD we have calculated verifies Parseval equality."
   ]
  },
  {
   "cell_type": "code",
   "execution_count": null,
   "metadata": {},
   "outputs": [],
   "source": [
    "p1 = np.sum(np.square(signal))\n",
    "p2 = np.sum(psd) \n",
    "print(p1/p2)"
   ]
  }
 ],
 "metadata": {
  "kernelspec": {
   "display_name": "Python 3",
   "language": "python",
   "name": "python3"
  },
  "language_info": {
   "codemirror_mode": {
    "name": "ipython",
    "version": 3
   },
   "file_extension": ".py",
   "mimetype": "text/x-python",
   "name": "python",
   "nbconvert_exporter": "python",
   "pygments_lexer": "ipython3",
   "version": "3.7.0"
  }
 },
 "nbformat": 4,
 "nbformat_minor": 2
}
