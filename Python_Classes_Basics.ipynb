{
 "cells": [
  {
   "cell_type": "markdown",
   "metadata": {},
   "source": [
    "# From FORTRAN to Python"
   ]
  },
  {
   "cell_type": "markdown",
   "metadata": {},
   "source": [
    "## Classes and objects"
   ]
  },
  {
   "cell_type": "code",
   "execution_count": 1,
   "metadata": {},
   "outputs": [],
   "source": [
    "from copy import copy\n",
    "\n",
    "import numpy as np"
   ]
  },
  {
   "cell_type": "markdown",
   "metadata": {},
   "source": [
    "In this exercise, we are going to implement a class to represent a point in 3D space. A natural approach to this is to ask for the cartesian coordinates of the point and store them. There is another requirement however: we would like the class to show us the position in both cartesian and cylindrical coordinates. Following is a simple implementation of this concept:"
   ]
  },
  {
   "cell_type": "code",
   "execution_count": 2,
   "metadata": {},
   "outputs": [
    {
     "name": "stdout",
     "output_type": "stream",
     "text": [
      "[1. 1. 3.]\n",
      "[1.41421356 0.78539816 3.        ]\n"
     ]
    }
   ],
   "source": [
    "class Point3D:\n",
    "    def __init__(self, x, y, z):\n",
    "        self.cart = np.array([x, y, z])\n",
    "        r = np.sqrt(x**2 + y**2)\n",
    "        theta = np.arctan2(y, x)\n",
    "        self.cyl = np.array([r, theta, z])\n",
    "        \n",
    "p = Point3D(1., 1., 3.)\n",
    "print(p.cart)\n",
    "print(p.cyl)"
   ]
  },
  {
   "cell_type": "markdown",
   "metadata": {},
   "source": [
    "Nice! We define the point using cartesian coordinates, and we get the cylidrical coordinates for free!\n",
    "Can we also edit them?"
   ]
  },
  {
   "cell_type": "code",
   "execution_count": 8,
   "metadata": {},
   "outputs": [
    {
     "name": "stdout",
     "output_type": "stream",
     "text": [
      "[8. 1. 3.]\n",
      "[1.41421356 0.78539816 3.        ]\n"
     ]
    }
   ],
   "source": [
    "p.cart[0] += 1\n",
    "print(p.cart)\n",
    "print(p.cyl)"
   ]
  },
  {
   "cell_type": "markdown",
   "metadata": {},
   "source": [
    "Ok good, `p.cart` gets updated. But, `p.cyl` didn't change. What happened?\n",
    "\n",
    "### Explanation\n",
    "\n",
    "The `__init__` method is called the *constructor* of the Point3D class. This method is called exactly once: when the object is first created, *i.e.* when the class is *instantiated*. This means that `cyl` is only computed once from `cart`. If `cart` changes at a later point (or equivalently if `cyl` changes), it will no longer be synchronized with `cart` (resp. `cyl`.)\n",
    "\n",
    "### Forcing coherence in classes\n",
    "\n",
    "Objects (classes) are meant first and foremost to *hold data*. A class must represent a chunk of data to its user, and is responsible for staying coherent over time, **whatever order the user chooses to call the methods in**. In order to force coherence, object-oriented languages often use *private* variables, which the user shouldn't / can't access. In Python, nothing is ever **truly** private, but a convention is to add `_` before a private attribute or method. A safe Point3D class could look like this:"
   ]
  },
  {
   "cell_type": "code",
   "execution_count": 4,
   "metadata": {},
   "outputs": [
    {
     "name": "stdout",
     "output_type": "stream",
     "text": [
      "[1. 1. 3.]\n",
      "[1.41421356 0.78539816 3.        ]\n",
      "[3. 1. 3.]\n",
      "[3.16227766 0.32175055 3.        ]\n"
     ]
    }
   ],
   "source": [
    "class Point3D_V2:\n",
    "    def __init__(self, x, y, z):\n",
    "        self._cart = np.array([x, y, z])\n",
    "        \n",
    "    def get_cart(self):\n",
    "        return copy(self._cart)\n",
    "    \n",
    "    def get_cyl(self):\n",
    "        x, y, z = self._cart\n",
    "        r = np.sqrt(x**2 + y**2)\n",
    "        theta = np.arctan2(y, x)\n",
    "        return np.array([r, theta, z])\n",
    "    \n",
    "    def set_cart(self, x, y, z):\n",
    "        self._cart = np.array([x, y, z])\n",
    "    \n",
    "p = Point3D_V2(1., 1., 3.)\n",
    "print(p.get_cart())\n",
    "print(p.get_cyl())\n",
    "\n",
    "x, y, z = p.get_cart()\n",
    "x += 2\n",
    "p.set_cart(x, y, z)\n",
    "print(p.get_cart())\n",
    "print(p.get_cyl())"
   ]
  },
  {
   "cell_type": "markdown",
   "metadata": {},
   "source": [
    "It works! What we have done here is effectively get rid of *redundancies* in the data. The point exists at a single location, whatever the coordinates. Even if you need to chose one representation inside the class, that does not concern the user of that class. The fact that the user can have access to several representations of the data shouldn't be confused with the need for the data to not be needlessly duplicated.\n",
    "\n",
    "### From Java to Python\n",
    "\n",
    "The above code works, and it is safe. It is very close to the kind of code that is usually written in Java. However, it is not considered 'Pythonic'.\n",
    "\n",
    "  - It is more verbose than the naïve implementation of Point3D.\n",
    "  - The user has to learn a lot of method names for each class, and spends time going back to the documentation.\n",
    "  - You have to give enough functions to cover all cases. What if the user wants to rotate the point? Or increase the radius? Or convert to spherical coordinates? Pretty soon, you class reaches dozens and dozens of methods.\n",
    "  \n",
    "In an ideal world, we would like to use an interaction like for Point3D, except that it would stay coherent. This is what Python strives to offer:"
   ]
  },
  {
   "cell_type": "code",
   "execution_count": 11,
   "metadata": {},
   "outputs": [
    {
     "name": "stdout",
     "output_type": "stream",
     "text": [
      "[1. 1. 3.]\n",
      "[1.41421356 0.78539816 3.        ]\n",
      "[3. 1. 3.]\n",
      "[3.16227766 0.32175055 3.        ]\n"
     ]
    }
   ],
   "source": [
    "class Point3D_V3:\n",
    "    def __init__(self, x, y, z):\n",
    "        self.cart = np.array([x, y, z])\n",
    "    \n",
    "    @property\n",
    "    def cyl(self):\n",
    "        x, y, z = self.cart\n",
    "        r = float(np.sqrt(x**2 + y**2))\n",
    "        theta = float(np.arctan2(y, x))\n",
    "        return np.array([r, theta, z])\n",
    "\n",
    "p = Point3D_V3(1., 1., 3.)\n",
    "print(p.cart)\n",
    "print(p.cyl)\n",
    "p.cart[0] += 2\n",
    "print(p.cart)\n",
    "print(p.cyl)"
   ]
  },
  {
   "cell_type": "markdown",
   "metadata": {},
   "source": [
    "### What just happened?\n",
    "\n",
    "Python has a lot of tricks up its sleeve, and most of them can help you build seamless interfaces for your code. In this case, [`@property`](https://docs.python.org/3/library/functions.html#property) is a special kind of [*decorator*](https://realpython.com/primer-on-python-decorators). It \"hijacks\" the `cyl` method, and exposes its result as an attribute. You can't call the `cyl` method anymore, since `p.cyl` can only reference one thing, and that is now `np.array([r, theta, z])`."
   ]
  },
  {
   "cell_type": "code",
   "execution_count": 19,
   "metadata": {},
   "outputs": [
    {
     "ename": "TypeError",
     "evalue": "'numpy.ndarray' object is not callable",
     "output_type": "error",
     "traceback": [
      "\u001b[0;31m---------------------------------------------------------------------------\u001b[0m",
      "\u001b[0;31mTypeError\u001b[0m                                 Traceback (most recent call last)",
      "\u001b[0;32m<ipython-input-19-971ea8d8118f>\u001b[0m in \u001b[0;36m<module>\u001b[0;34m()\u001b[0m\n\u001b[0;32m----> 1\u001b[0;31m \u001b[0mp\u001b[0m\u001b[0;34m.\u001b[0m\u001b[0mcyl\u001b[0m\u001b[0;34m(\u001b[0m\u001b[0;36m0\u001b[0m\u001b[0;34m)\u001b[0m\u001b[0;34m\u001b[0m\u001b[0m\n\u001b[0m",
      "\u001b[0;31mTypeError\u001b[0m: 'numpy.ndarray' object is not callable"
     ]
    }
   ],
   "source": [
    "p.cyl(0)"
   ]
  },
  {
   "cell_type": "markdown",
   "metadata": {},
   "source": [
    "## Conclusion\n",
    "\n",
    "The end result here is a `Point3D_V3` class that behaves in a way that is very familiar to the user. Remember the implementation of `Point3D` above? It seemed very natural, but of course as we saw it was broken. Nevertheless, because it is natural, users will spend very little time understanding and remembering it. The point of `Point3D_V3` is to keep this usability, but use a bit of dark magic (actually, [*syntactic sugar*](https://en.wikipedia.org/wiki/Syntactic_sugar)) to make it work in the background."
   ]
  }
 ],
 "metadata": {
  "kernelspec": {
   "display_name": "Python 3",
   "language": "python",
   "name": "python3"
  },
  "language_info": {
   "codemirror_mode": {
    "name": "ipython",
    "version": 3
   },
   "file_extension": ".py",
   "mimetype": "text/x-python",
   "name": "python",
   "nbconvert_exporter": "python",
   "pygments_lexer": "ipython3",
   "version": "3.7.0"
  }
 },
 "nbformat": 4,
 "nbformat_minor": 2
}
