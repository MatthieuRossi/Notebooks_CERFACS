{
 "cells": [
  {
   "cell_type": "markdown",
   "metadata": {},
   "source": [
    "# FFT: tricks & pitfalls \n",
    "\n",
    "In this notebook (which follows the one on generalities about Fast Fourier Transform), we will focus on details you must take into account if you want to perform spectral analysis.\n",
    "\n",
    "First, we call the tools we developped during the previous notebook."
   ]
  },
  {
   "cell_type": "code",
   "execution_count": 1,
   "metadata": {},
   "outputs": [],
   "source": [
    "import numpy as np\n",
    "import matplotlib.pyplot as plt\n",
    "import ipywidgets as widgets\n",
    "\n",
    "def get_sine(time_vector : tuple, mean_value : float, amplitude : float, main_frequency : float) :\n",
    "    \n",
    "    \"\"\"This function creates a sine signal using the time vector provided and with \n",
    "    the mean_value, amplitude and main_frequency parameters provided. \"\"\"\n",
    "    \n",
    "    # Define the signal vector\n",
    "    signal_vector = mean_value + amplitude * np.sin(time_vector * main_frequency * 2 * np.pi)\n",
    "    return signal_vector\n",
    "\n",
    "def get_noise(time_vector : tuple, noise_amp : float) :\n",
    "    \n",
    "    \"\"\"This function creates a vector of the same length of the vector you give and which values are random floats\"\"\"\n",
    "    \n",
    "    # Create a vector of the length of the time vector which values are random numbers between -1 and 1\n",
    "    noise_vector = np.random.random(len(time_vector)) * 2 - 1 \n",
    "    \n",
    "    # Multiply the vector you have just created by the amplitude parameter\n",
    "    noise_vector *= noise_amp\n",
    "    return noise_vector\n",
    "\n",
    "def fourier_transform(time_vect : tuple, signal_vect : tuple) :\n",
    "    \"\"\"This function automates the computation of the Fourier Transform of a signal.\"\"\"\n",
    "    total_time = time_vect[-1] - time_vect[0]\n",
    "    dt = time_vect[1] - time_vect[0]\n",
    "\n",
    "    freq_resolution = 1. / total_time\n",
    "    freq_nyquist = 1. / dt\n",
    "\n",
    "    all_freq = np.arange(0, freq_nyquist, freq_resolution ,dtype=np.float)\n",
    "    N = len(time_vect)\n",
    "    freq = all_freq[0:int(N/2) - 1]\n",
    "\n",
    "    raw_fft = np.fft.fft(signal_vect)\n",
    "    amplitude_spectrum = np.absolute(raw_fft)[0:int(N/2) - 1]\n",
    "    amplitude_spectrum /= N\n",
    "    amplitude_spectrum[1:] *= 2\n",
    "    return freq, amplitude_spectrum\n",
    "\n",
    "def PSD(time_vect:tuple, signal_vect:tuple):\n",
    "    \"\"\"This function automates the computation of the Power Spectral Density of a signal.\"\"\"\n",
    "    total_time = time_vect[-1] - time_vect[0]\n",
    "    dt = time_vect[1] - time_vect[0]\n",
    "\n",
    "    freq_resolution = 1. / total_time\n",
    "    freq_nyquist = 1. / dt\n",
    "\n",
    "    frequency = np.arange(0, freq_nyquist, freq_resolution ,dtype=np.float)\n",
    "    N = len(time_vect)\n",
    "    frequency = frequency[:int(N/2)-1]\n",
    "    \n",
    "    raw_fft = np.fft.fft(signal_vect)\n",
    "    power_spectral_density = np.square(np.absolute(raw_fft)[:int(N/2)-1]/ np.sqrt(N))\n",
    "    power_spectral_density[1:] *= 2\n",
    "    return frequency, power_spectral_density"
   ]
  },
  {
   "cell_type": "markdown",
   "metadata": {},
   "source": [
    "### 1) Fast Fourier Transform well-known pitfalls\n",
    "\n",
    "When performing the FFT of a signal there are several points you should care about.\n",
    "First of them is aliasing.\n",
    "\n",
    "#### 1.1) Aliasing\n",
    "Aliasing is the name of the consequence of a poorly refined sampling.\n",
    "\n",
    "To illustrate this, we will create two 8 Hz sine signals on a 1,5 seconds time duration, the first one will be sampled with 128 timesteps and the second one with only 6 timesteps. Then we will plot each signal and its Fourier Transform."
   ]
  },
  {
   "cell_type": "code",
   "execution_count": null,
   "metadata": {},
   "outputs": [],
   "source": [
    "sine_frequency = ___\n",
    "high_nb_of_timesteps = ___\n",
    "time1 = np.linspace(___)\n",
    "sine1 = get_sine(___)\n",
    "freq1, amp1 = fourier_transform(___)\n",
    "\n",
    "def aliasing(low_nb_of_timesteps=6):\n",
    "    \"\"\"Illustrate the phenomenon of aliasing with a tunable plot\"\"\"\n",
    "    time2 = np.linspace(___)\n",
    "    sine2 = get_sine(___)\n",
    "    freq2, amp2 = fourier_transform(___)\n",
    "    dt = time2[___] - time2[___]\n",
    "    freq_nyquist = 1. / (2 * dt)\n",
    "    \n",
    "    fig=plt.figure()\n",
    "    ax=fig.add_subplot(211)\n",
    "    ax.plot(time2, sine2, 'o-r', time3, sine3, 'o-b')\n",
    "\n",
    "    plt.title('8 Hz sine signal')\n",
    "    ax.set_xlabel('Time (s)')\n",
    "    ax.set_ylabel('Amplitude')\n",
    "    ax.grid(True)\n",
    "    \n",
    "    ax1 = fig.add_subplot(212)\n",
    "    line3 = plt.axvline(freq_nyquist, color='k', linestyle='--')\n",
    "    line2 =ax1.bar(freq3, amp3, color = 'red')\n",
    "    line1 = ax1.bar(freq2, amp2, color = 'blue', alpha = 0.5)\n",
    "    \n",
    "    plt.title('Spectrum')\n",
    "    ax1.set_xlabel('Frequency (Hz)')\n",
    "    ax1.set_ylabel('Amplitude.s')\n",
    "    ax.legend((line1,line2,line3),(str(high_nb_of_timesteps) + ' timesteps sampled signal', \n",
    "               str(low_nb_of_timesteps) + ' timesteps sampled signal',\n",
    "               'Nyquist frequency'), loc=(1, -0.2), handlelength=1.5, fontsize=16)\n",
    "    ax1.grid(True)\n",
    "    plt.subplots_adjust(top = 2, right = 2, wspace = 0.5)\n",
    "    plt.show()\n",
    "    \n",
    "widgets.interact(aliasing,low_nb_of_timesteps=(2,128,2))"
   ]
  },
  {
   "cell_type": "markdown",
   "metadata": {},
   "source": [
    "We see that the poorly refined signal looks like a 1 Hz sine signal and the spectrum shows a peak at 1 Hz.\n",
    "\n",
    "You can now change the value of the number of time samples of the poorly refined signal from 8 to 16 timesteps to see how the peak moves. You should get a peak moving to the right until you reach a 8 Hz value for the peak.\n",
    "\n",
    "### 5.2) Extending the duration of a signal\n",
    "\n",
    "What is the effect of increasing the signal duration on the amplitude spectrum? On the PSD spectrum? It is the purpose of this section to answer these questions.\n",
    "First let us see the amplitude spectrum. We will create a signal and compare its amplitude spectrum to the spectrum of half the duration of this signal."
   ]
  },
  {
   "cell_type": "code",
   "execution_count": 53,
   "metadata": {},
   "outputs": [
    {
     "data": {
      "application/vnd.jupyter.widget-view+json": {
       "model_id": "7028dec5da14495587024c0aeb88214f",
       "version_major": 2,
       "version_minor": 0
      },
      "text/plain": [
       "HBox(children=(VBox(children=(IntSlider(value=1, description='Duration:', max=10, min=1),)), Output()))"
      ]
     },
     "metadata": {},
     "output_type": "display_data"
    }
   ],
   "source": [
    "time3 = np.linspace(0., 5, 512)\n",
    "signal3 = get_sine(time3, 10, 8, 20)\n",
    "signal3 += get_noise(signal3, 4)\n",
    "freq3,amp3 = fourier_transform(time3, signal3)\n",
    "def signal_duration(Duration):\n",
    "    time4 = time3[:int(len(time3) * Duration / 10)]\n",
    "    signal4 = signal3[:int(len(time3) * Duration / 10)]\n",
    "    \n",
    "    freq4,amp4=fourier_transform(time4,signal4)\n",
    "    \n",
    "    fig=plt.figure()\n",
    "    ax=fig.add_subplot(131)\n",
    "    plt.plot(time3,signal3,'r',time4,signal4,'--b')\n",
    "    plt.grid()\n",
    "\n",
    "    ax=fig.add_subplot(132)\n",
    "    plt.plot(freq3,amp3,'r',freq4,amp4,'--b')\n",
    "    plt.subplots_adjust(right=2)\n",
    "\n",
    "Duration = widgets.IntSlider(min = 1, max = 10,description='Duration:')    \n",
    "out = widgets.interactive_output(signal_duration, {'Duration': Duration})\n",
    "widgets.HBox([widgets.VBox([Duration]), out])\n"
   ]
  }
 ],
 "metadata": {
  "kernelspec": {
   "display_name": "Python 3",
   "language": "python",
   "name": "python3"
  },
  "language_info": {
   "codemirror_mode": {
    "name": "ipython",
    "version": 3
   },
   "file_extension": ".py",
   "mimetype": "text/x-python",
   "name": "python",
   "nbconvert_exporter": "python",
   "pygments_lexer": "ipython3",
   "version": "3.7.0"
  }
 },
 "nbformat": 4,
 "nbformat_minor": 2
}
